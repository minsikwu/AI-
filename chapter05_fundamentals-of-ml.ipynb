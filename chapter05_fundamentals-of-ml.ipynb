{
  "cells": [
    {
      "cell_type": "markdown",
      "metadata": {
        "id": "HoU-k5rBxqpS"
      },
      "source": [
        "This is a companion notebook for the book [Deep Learning with Python, Second Edition](https://www.manning.com/books/deep-learning-with-python-second-edition?a_aid=keras&a_bid=76564dff). For readability, it only contains runnable code blocks and section titles, and omits everything else in the book: text paragraphs, figures, and pseudocode.\n",
        "\n",
        "**If you want to be able to follow what's going on, I recommend reading the notebook side by side with your copy of the book.**\n",
        "\n",
        "This notebook was generated for TensorFlow 2.6."
      ]
    },
    {
      "cell_type": "markdown",
      "metadata": {
        "id": "tXKH3x2NxqpX"
      },
      "source": [
        "# Fundamentals of machine learning"
      ]
    },
    {
      "cell_type": "markdown",
      "metadata": {
        "id": "gRlAs5rrxqpX"
      },
      "source": [
        "## Generalization: The goal of machine learning"
      ]
    },
    {
      "cell_type": "markdown",
      "metadata": {
        "id": "GO0EyRSVxqpY"
      },
      "source": [
        "### Underfitting and overfitting"
      ]
    },
    {
      "cell_type": "markdown",
      "metadata": {
        "id": "I-mrhuD7xqpY"
      },
      "source": [
        "#### Noisy training data"
      ]
    },
    {
      "cell_type": "markdown",
      "metadata": {
        "id": "WMDC1QVoxqpY"
      },
      "source": [
        "#### Ambiguous features"
      ]
    },
    {
      "cell_type": "markdown",
      "metadata": {
        "id": "_dzQ9HosxqpZ"
      },
      "source": [
        "#### Rare features and spurious correlations"
      ]
    },
    {
      "cell_type": "markdown",
      "metadata": {
        "id": "CF1NhzqtxqpZ"
      },
      "source": [
        "**Adding white-noise channels or all-zeros channels to MNIST**"
      ]
    },
    {
      "cell_type": "code",
      "execution_count": 1,
      "metadata": {
        "id": "le62JOBVxqpZ",
        "outputId": "7f233d12-4a57-4d71-da16-bbd3bf31fe04",
        "colab": {
          "base_uri": "https://localhost:8080/"
        }
      },
      "outputs": [
        {
          "output_type": "stream",
          "name": "stdout",
          "text": [
            "Downloading data from https://storage.googleapis.com/tensorflow/tf-keras-datasets/mnist.npz\n",
            "11490434/11490434 [==============================] - 0s 0us/step\n"
          ]
        }
      ],
      "source": [
        "from tensorflow.keras.datasets import mnist\n",
        "import numpy as np\n",
        "\n",
        "(train_images, train_labels), _ = mnist.load_data()\n",
        "train_images = train_images.reshape((60000, 28 * 28))\n",
        "train_images = train_images.astype(\"float32\") / 255\n",
        "\n",
        "train_images_with_noise_channels = np.concatenate(\n",
        "    [train_images, np.random.random((len(train_images), 784))], axis=1)\n",
        "\n",
        "train_images_with_zeros_channels = np.concatenate(\n",
        "    [train_images, np.zeros((len(train_images), 784))], axis=1)"
      ]
    },
    {
      "cell_type": "markdown",
      "metadata": {
        "id": "punI-eK8xqpa"
      },
      "source": [
        "**Training the same model on MNIST data with noise channels or all-zero channels**"
      ]
    },
    {
      "cell_type": "code",
      "execution_count": 4,
      "metadata": {
        "id": "hdgiGgDMxqpb",
        "outputId": "4ae43ea0-38de-46fc-d108-0e89fff8705b",
        "colab": {
          "base_uri": "https://localhost:8080/"
        }
      },
      "outputs": [
        {
          "output_type": "stream",
          "name": "stdout",
          "text": [
            "Epoch 1/10\n",
            "375/375 [==============================] - 9s 23ms/step - loss: 0.6164 - accuracy: 0.8108 - val_loss: 0.3156 - val_accuracy: 0.9015\n",
            "Epoch 2/10\n",
            "375/375 [==============================] - 7s 18ms/step - loss: 0.2517 - accuracy: 0.9220 - val_loss: 0.1923 - val_accuracy: 0.9426\n",
            "Epoch 3/10\n",
            "375/375 [==============================] - 8s 21ms/step - loss: 0.1655 - accuracy: 0.9490 - val_loss: 0.1428 - val_accuracy: 0.9588\n",
            "Epoch 4/10\n",
            "375/375 [==============================] - 8s 22ms/step - loss: 0.1183 - accuracy: 0.9633 - val_loss: 0.1245 - val_accuracy: 0.9632\n",
            "Epoch 5/10\n",
            "375/375 [==============================] - 7s 18ms/step - loss: 0.0857 - accuracy: 0.9727 - val_loss: 0.1412 - val_accuracy: 0.9575\n",
            "Epoch 6/10\n",
            "375/375 [==============================] - 8s 22ms/step - loss: 0.0641 - accuracy: 0.9791 - val_loss: 0.1158 - val_accuracy: 0.9674\n",
            "Epoch 7/10\n",
            "375/375 [==============================] - 7s 18ms/step - loss: 0.0472 - accuracy: 0.9849 - val_loss: 0.1224 - val_accuracy: 0.9660\n",
            "Epoch 8/10\n",
            "375/375 [==============================] - 8s 21ms/step - loss: 0.0339 - accuracy: 0.9898 - val_loss: 0.2002 - val_accuracy: 0.9464\n",
            "Epoch 9/10\n",
            "375/375 [==============================] - 7s 20ms/step - loss: 0.0269 - accuracy: 0.9915 - val_loss: 0.1324 - val_accuracy: 0.9658\n",
            "Epoch 10/10\n",
            "375/375 [==============================] - 8s 22ms/step - loss: 0.0180 - accuracy: 0.9942 - val_loss: 0.1483 - val_accuracy: 0.9666\n",
            "Epoch 1/10\n",
            "375/375 [==============================] - 12s 32ms/step - loss: 0.2948 - accuracy: 0.9149 - val_loss: 0.1636 - val_accuracy: 0.9513\n",
            "Epoch 2/10\n",
            "375/375 [==============================] - 7s 19ms/step - loss: 0.1242 - accuracy: 0.9632 - val_loss: 0.1086 - val_accuracy: 0.9696\n",
            "Epoch 3/10\n",
            "375/375 [==============================] - 8s 22ms/step - loss: 0.0815 - accuracy: 0.9762 - val_loss: 0.0886 - val_accuracy: 0.9728\n",
            "Epoch 4/10\n",
            "375/375 [==============================] - 7s 19ms/step - loss: 0.0586 - accuracy: 0.9827 - val_loss: 0.0824 - val_accuracy: 0.9754\n",
            "Epoch 5/10\n",
            "375/375 [==============================] - 8s 22ms/step - loss: 0.0440 - accuracy: 0.9868 - val_loss: 0.0776 - val_accuracy: 0.9789\n",
            "Epoch 6/10\n",
            "375/375 [==============================] - 8s 21ms/step - loss: 0.0332 - accuracy: 0.9903 - val_loss: 0.0817 - val_accuracy: 0.9769\n",
            "Epoch 7/10\n",
            "375/375 [==============================] - 9s 23ms/step - loss: 0.0250 - accuracy: 0.9930 - val_loss: 0.0889 - val_accuracy: 0.9755\n",
            "Epoch 8/10\n",
            "375/375 [==============================] - 8s 22ms/step - loss: 0.0191 - accuracy: 0.9946 - val_loss: 0.0768 - val_accuracy: 0.9784\n",
            "Epoch 9/10\n",
            "375/375 [==============================] - 7s 19ms/step - loss: 0.0143 - accuracy: 0.9961 - val_loss: 0.0823 - val_accuracy: 0.9775\n",
            "Epoch 10/10\n",
            "375/375 [==============================] - 8s 22ms/step - loss: 0.0104 - accuracy: 0.9977 - val_loss: 0.0802 - val_accuracy: 0.9798\n"
          ]
        }
      ],
      "source": [
        "from tensorflow import keras\n",
        "from tensorflow.keras import layers\n",
        "\n",
        "def get_model():\n",
        "    model = keras.Sequential([\n",
        "        layers.Dense(512, activation=\"relu\"),\n",
        "        layers.Dense(10, activation=\"softmax\")\n",
        "    ])\n",
        "    model.compile(optimizer=\"rmsprop\",\n",
        "                  loss=\"sparse_categorical_crossentropy\",\n",
        "                  metrics=[\"accuracy\"])\n",
        "    return model\n",
        "\n",
        "model = get_model()\n",
        "history_noise = model.fit(\n",
        "    train_images_with_noise_channels, train_labels,\n",
        "    epochs=10,\n",
        "    batch_size=128,\n",
        "    validation_split=0.2)\n",
        "\n",
        "model = get_model()\n",
        "history_zeros = model.fit(\n",
        "    train_images_with_zeros_channels, train_labels,\n",
        "    epochs=10,\n",
        "    batch_size=128,\n",
        "    validation_split=0.2)\n"
      ]
    },
    {
      "cell_type": "markdown",
      "metadata": {
        "id": "76a1uqlWxqpb"
      },
      "source": [
        "**Plotting a validation accuracy comparison**"
      ]
    },
    {
      "cell_type": "code",
      "execution_count": 3,
      "metadata": {
        "id": "SFSXTEUmxqpb",
        "outputId": "35a2134d-9633-4482-a600-fb4eba5cd160",
        "colab": {
          "base_uri": "https://localhost:8080/",
          "height": 491
        }
      },
      "outputs": [
        {
          "output_type": "execute_result",
          "data": {
            "text/plain": [
              "<matplotlib.legend.Legend at 0x7f9ae1240cd0>"
            ]
          },
          "metadata": {},
          "execution_count": 3
        },
        {
          "output_type": "display_data",
          "data": {
            "text/plain": [
              "<Figure size 640x480 with 1 Axes>"
            ],
            "image/png": "[encoded data removed]"
          },
          "metadata": {}
        }
      ],
      "source": [
        "import matplotlib.pyplot as plt\n",
        "val_acc_noise = history_noise.history[\"val_accuracy\"]\n",
        "val_acc_zeros = history_zeros.history[\"val_accuracy\"]\n",
        "epochs = range(1, 11)\n",
        "plt.plot(epochs, val_acc_noise, \"b-\",\n",
        "         label=\"Validation accuracy with noise channels\")\n",
        "plt.plot(epochs, val_acc_zeros, \"b--\",\n",
        "         label=\"Validation accuracy with zeros channels\")\n",
        "plt.title(\"Effect of noise channels on validation accuracy\")\n",
        "plt.xlabel(\"Epochs\")\n",
        "plt.ylabel(\"Accuracy\")\n",
        "plt.legend()"
      ]
    },
    {
      "cell_type": "markdown",
      "metadata": {
        "id": "m9HvaQTNxqpb"
      },
      "source": [
        "### The nature of generalization in deep learning"
      ]
    },
    {
      "cell_type": "markdown",
      "metadata": {
        "id": "2U-bcMhuxqpc"
      },
      "source": [
        "**Fitting a MNIST model with randomly shuffled labels**"
      ]
    },
    {
      "cell_type": "code",
      "execution_count": 5,
      "metadata": {
        "id": "fkDYLUDnxqpc",
        "outputId": "4e4db95a-b07e-4b0d-d942-3db48ade17c4",
        "colab": {
          "base_uri": "https://localhost:8080/"
        }
      },
      "outputs": [
        {
          "output_type": "stream",
          "name": "stdout",
          "text": [
            "Epoch 1/100\n",
            "375/375 [==============================] - 6s 14ms/step - loss: 2.3156 - accuracy: 0.1012 - val_loss: 2.3046 - val_accuracy: 0.1043\n",
            "Epoch 2/100\n",
            "375/375 [==============================] - 4s 11ms/step - loss: 2.3003 - accuracy: 0.1145 - val_loss: 2.3120 - val_accuracy: 0.1035\n",
            "Epoch 3/100\n",
            "375/375 [==============================] - 4s 11ms/step - loss: 2.2927 - accuracy: 0.1255 - val_loss: 2.3145 - val_accuracy: 0.1027\n",
            "Epoch 4/100\n",
            "375/375 [==============================] - 5s 14ms/step - loss: 2.2821 - accuracy: 0.1344 - val_loss: 2.3240 - val_accuracy: 0.1050\n",
            "Epoch 5/100\n",
            "375/375 [==============================] - 4s 11ms/step - loss: 2.2661 - accuracy: 0.1507 - val_loss: 2.3389 - val_accuracy: 0.1000\n",
            "Epoch 6/100\n",
            "375/375 [==============================] - 4s 11ms/step - loss: 2.2484 - accuracy: 0.1611 - val_loss: 2.3482 - val_accuracy: 0.1030\n",
            "Epoch 7/100\n",
            "375/375 [==============================] - 5s 14ms/step - loss: 2.2257 - accuracy: 0.1779 - val_loss: 2.3597 - val_accuracy: 0.0996\n",
            "Epoch 8/100\n",
            "375/375 [==============================] - 4s 11ms/step - loss: 2.1997 - accuracy: 0.1917 - val_loss: 2.3721 - val_accuracy: 0.1015\n",
            "Epoch 9/100\n",
            "375/375 [==============================] - 4s 11ms/step - loss: 2.1711 - accuracy: 0.2095 - val_loss: 2.3978 - val_accuracy: 0.0996\n",
            "Epoch 10/100\n",
            "375/375 [==============================] - 5s 14ms/step - loss: 2.1399 - accuracy: 0.2237 - val_loss: 2.4104 - val_accuracy: 0.1016\n",
            "Epoch 11/100\n",
            "375/375 [==============================] - 4s 11ms/step - loss: 2.1048 - accuracy: 0.2419 - val_loss: 2.4440 - val_accuracy: 0.0968\n",
            "Epoch 12/100\n",
            "375/375 [==============================] - 4s 11ms/step - loss: 2.0713 - accuracy: 0.2582 - val_loss: 2.4631 - val_accuracy: 0.1006\n",
            "Epoch 13/100\n",
            "375/375 [==============================] - 5s 14ms/step - loss: 2.0354 - accuracy: 0.2757 - val_loss: 2.4967 - val_accuracy: 0.1016\n",
            "Epoch 14/100\n",
            "375/375 [==============================] - 4s 11ms/step - loss: 1.9967 - accuracy: 0.2914 - val_loss: 2.5248 - val_accuracy: 0.0943\n",
            "Epoch 15/100\n",
            "375/375 [==============================] - 4s 11ms/step - loss: 1.9583 - accuracy: 0.3079 - val_loss: 2.5718 - val_accuracy: 0.0986\n",
            "Epoch 16/100\n",
            "375/375 [==============================] - 5s 14ms/step - loss: 1.9201 - accuracy: 0.3250 - val_loss: 2.5868 - val_accuracy: 0.0971\n",
            "Epoch 17/100\n",
            "375/375 [==============================] - 4s 12ms/step - loss: 1.8813 - accuracy: 0.3385 - val_loss: 2.6224 - val_accuracy: 0.0984\n",
            "Epoch 18/100\n",
            "375/375 [==============================] - 4s 11ms/step - loss: 1.8407 - accuracy: 0.3575 - val_loss: 2.6673 - val_accuracy: 0.1020\n",
            "Epoch 19/100\n",
            "375/375 [==============================] - 5s 14ms/step - loss: 1.8029 - accuracy: 0.3730 - val_loss: 2.7144 - val_accuracy: 0.1005\n",
            "Epoch 20/100\n",
            "375/375 [==============================] - 4s 11ms/step - loss: 1.7651 - accuracy: 0.3869 - val_loss: 2.7376 - val_accuracy: 0.0993\n",
            "Epoch 21/100\n",
            "375/375 [==============================] - 4s 11ms/step - loss: 1.7267 - accuracy: 0.4023 - val_loss: 2.7842 - val_accuracy: 0.1007\n",
            "Epoch 22/100\n",
            "375/375 [==============================] - 5s 14ms/step - loss: 1.6902 - accuracy: 0.4149 - val_loss: 2.8205 - val_accuracy: 0.0996\n",
            "Epoch 23/100\n",
            "375/375 [==============================] - 4s 11ms/step - loss: 1.6532 - accuracy: 0.4313 - val_loss: 2.8861 - val_accuracy: 0.0998\n",
            "Epoch 24/100\n",
            "375/375 [==============================] - 4s 11ms/step - loss: 1.6191 - accuracy: 0.4454 - val_loss: 2.9369 - val_accuracy: 0.0996\n",
            "Epoch 25/100\n",
            "375/375 [==============================] - 5s 14ms/step - loss: 1.5848 - accuracy: 0.4591 - val_loss: 2.9616 - val_accuracy: 0.0981\n",
            "Epoch 26/100\n",
            "375/375 [==============================] - 4s 11ms/step - loss: 1.5499 - accuracy: 0.4692 - val_loss: 2.9948 - val_accuracy: 0.1005\n",
            "Epoch 27/100\n",
            "375/375 [==============================] - 4s 11ms/step - loss: 1.5181 - accuracy: 0.4828 - val_loss: 3.0582 - val_accuracy: 0.0939\n",
            "Epoch 28/100\n",
            "375/375 [==============================] - 5s 13ms/step - loss: 1.4836 - accuracy: 0.4956 - val_loss: 3.1107 - val_accuracy: 0.0994\n",
            "Epoch 29/100\n",
            "375/375 [==============================] - 4s 11ms/step - loss: 1.4516 - accuracy: 0.5083 - val_loss: 3.1511 - val_accuracy: 0.0977\n",
            "Epoch 30/100\n",
            "375/375 [==============================] - 4s 12ms/step - loss: 1.4210 - accuracy: 0.5187 - val_loss: 3.1982 - val_accuracy: 0.1007\n",
            "Epoch 31/100\n",
            "375/375 [==============================] - 5s 14ms/step - loss: 1.3907 - accuracy: 0.5299 - val_loss: 3.2608 - val_accuracy: 0.0969\n",
            "Epoch 32/100\n",
            "375/375 [==============================] - 4s 12ms/step - loss: 1.3615 - accuracy: 0.5406 - val_loss: 3.3132 - val_accuracy: 0.0996\n",
            "Epoch 33/100\n",
            "375/375 [==============================] - 5s 13ms/step - loss: 1.3333 - accuracy: 0.5508 - val_loss: 3.3696 - val_accuracy: 0.0946\n",
            "Epoch 34/100\n",
            "375/375 [==============================] - 4s 11ms/step - loss: 1.3037 - accuracy: 0.5639 - val_loss: 3.4257 - val_accuracy: 0.0978\n",
            "Epoch 35/100\n",
            "375/375 [==============================] - 4s 11ms/step - loss: 1.2770 - accuracy: 0.5720 - val_loss: 3.4662 - val_accuracy: 0.0982\n",
            "Epoch 36/100\n",
            "375/375 [==============================] - 5s 14ms/step - loss: 1.2514 - accuracy: 0.5820 - val_loss: 3.5274 - val_accuracy: 0.0992\n",
            "Epoch 37/100\n",
            "375/375 [==============================] - 4s 12ms/step - loss: 1.2252 - accuracy: 0.5897 - val_loss: 3.5892 - val_accuracy: 0.0999\n",
            "Epoch 38/100\n",
            "375/375 [==============================] - 5s 13ms/step - loss: 1.1995 - accuracy: 0.5986 - val_loss: 3.6328 - val_accuracy: 0.0993\n",
            "Epoch 39/100\n",
            "375/375 [==============================] - 6s 16ms/step - loss: 1.1749 - accuracy: 0.6045 - val_loss: 3.6918 - val_accuracy: 0.0993\n",
            "Epoch 40/100\n",
            "375/375 [==============================] - 5s 13ms/step - loss: 1.1501 - accuracy: 0.6160 - val_loss: 3.7899 - val_accuracy: 0.0960\n",
            "Epoch 41/100\n",
            "375/375 [==============================] - 5s 13ms/step - loss: 1.1267 - accuracy: 0.6244 - val_loss: 3.8125 - val_accuracy: 0.0987\n",
            "Epoch 42/100\n",
            "375/375 [==============================] - 5s 14ms/step - loss: 1.1033 - accuracy: 0.6341 - val_loss: 3.8764 - val_accuracy: 0.0996\n",
            "Epoch 43/100\n",
            "375/375 [==============================] - 5s 13ms/step - loss: 1.0802 - accuracy: 0.6413 - val_loss: 3.9210 - val_accuracy: 0.0968\n",
            "Epoch 44/100\n",
            "375/375 [==============================] - 6s 16ms/step - loss: 1.0593 - accuracy: 0.6478 - val_loss: 3.9815 - val_accuracy: 0.0971\n",
            "Epoch 45/100\n",
            "375/375 [==============================] - 4s 12ms/step - loss: 1.0365 - accuracy: 0.6561 - val_loss: 4.0608 - val_accuracy: 0.1017\n",
            "Epoch 46/100\n",
            "375/375 [==============================] - 5s 12ms/step - loss: 1.0146 - accuracy: 0.6658 - val_loss: 4.1259 - val_accuracy: 0.0980\n",
            "Epoch 47/100\n",
            "375/375 [==============================] - 6s 15ms/step - loss: 0.9935 - accuracy: 0.6718 - val_loss: 4.1914 - val_accuracy: 0.0981\n",
            "Epoch 48/100\n",
            "375/375 [==============================] - 4s 12ms/step - loss: 0.9743 - accuracy: 0.6798 - val_loss: 4.2717 - val_accuracy: 0.1015\n",
            "Epoch 49/100\n",
            "375/375 [==============================] - 5s 14ms/step - loss: 0.9546 - accuracy: 0.6869 - val_loss: 4.3043 - val_accuracy: 0.0988\n",
            "Epoch 50/100\n",
            "375/375 [==============================] - 5s 13ms/step - loss: 0.9380 - accuracy: 0.6912 - val_loss: 4.3663 - val_accuracy: 0.0973\n",
            "Epoch 51/100\n",
            "375/375 [==============================] - 4s 11ms/step - loss: 0.9193 - accuracy: 0.6983 - val_loss: 4.4657 - val_accuracy: 0.1022\n",
            "Epoch 52/100\n",
            "375/375 [==============================] - 6s 16ms/step - loss: 0.8996 - accuracy: 0.7041 - val_loss: 4.5043 - val_accuracy: 0.0968\n",
            "Epoch 53/100\n",
            "375/375 [==============================] - 5s 12ms/step - loss: 0.8811 - accuracy: 0.7101 - val_loss: 4.5530 - val_accuracy: 0.1001\n",
            "Epoch 54/100\n",
            "375/375 [==============================] - 5s 13ms/step - loss: 0.8639 - accuracy: 0.7166 - val_loss: 4.6151 - val_accuracy: 0.0976\n",
            "Epoch 55/100\n",
            "375/375 [==============================] - 6s 15ms/step - loss: 0.8459 - accuracy: 0.7245 - val_loss: 4.7119 - val_accuracy: 0.0996\n",
            "Epoch 56/100\n",
            "375/375 [==============================] - 4s 12ms/step - loss: 0.8283 - accuracy: 0.7302 - val_loss: 4.7847 - val_accuracy: 0.1001\n",
            "Epoch 57/100\n",
            "375/375 [==============================] - 6s 17ms/step - loss: 0.8136 - accuracy: 0.7366 - val_loss: 4.8378 - val_accuracy: 0.1022\n",
            "Epoch 58/100\n",
            "375/375 [==============================] - 5s 12ms/step - loss: 0.7989 - accuracy: 0.7419 - val_loss: 4.9144 - val_accuracy: 0.0986\n",
            "Epoch 59/100\n",
            "375/375 [==============================] - 5s 13ms/step - loss: 0.7820 - accuracy: 0.7489 - val_loss: 4.9685 - val_accuracy: 0.1009\n",
            "Epoch 60/100\n",
            "375/375 [==============================] - 6s 16ms/step - loss: 0.7639 - accuracy: 0.7529 - val_loss: 5.0339 - val_accuracy: 0.1012\n",
            "Epoch 61/100\n",
            "375/375 [==============================] - 5s 13ms/step - loss: 0.7508 - accuracy: 0.7568 - val_loss: 5.1067 - val_accuracy: 0.0984\n",
            "Epoch 62/100\n",
            "375/375 [==============================] - 7s 17ms/step - loss: 0.7353 - accuracy: 0.7622 - val_loss: 5.1466 - val_accuracy: 0.0973\n",
            "Epoch 63/100\n",
            "375/375 [==============================] - 5s 13ms/step - loss: 0.7221 - accuracy: 0.7665 - val_loss: 5.2494 - val_accuracy: 0.0993\n",
            "Epoch 64/100\n",
            "375/375 [==============================] - 4s 12ms/step - loss: 0.7087 - accuracy: 0.7693 - val_loss: 5.3365 - val_accuracy: 0.1004\n",
            "Epoch 65/100\n",
            "375/375 [==============================] - 6s 15ms/step - loss: 0.6929 - accuracy: 0.7786 - val_loss: 5.3708 - val_accuracy: 0.0990\n",
            "Epoch 66/100\n",
            "375/375 [==============================] - 5s 12ms/step - loss: 0.6786 - accuracy: 0.7818 - val_loss: 5.4459 - val_accuracy: 0.1004\n",
            "Epoch 67/100\n",
            "375/375 [==============================] - 6s 16ms/step - loss: 0.6668 - accuracy: 0.7853 - val_loss: 5.5584 - val_accuracy: 0.0992\n",
            "Epoch 68/100\n",
            "375/375 [==============================] - 5s 13ms/step - loss: 0.6536 - accuracy: 0.7899 - val_loss: 5.5768 - val_accuracy: 0.1005\n",
            "Epoch 69/100\n",
            "375/375 [==============================] - 5s 12ms/step - loss: 0.6414 - accuracy: 0.7935 - val_loss: 5.6601 - val_accuracy: 0.1009\n",
            "Epoch 70/100\n",
            "375/375 [==============================] - 6s 16ms/step - loss: 0.6279 - accuracy: 0.7979 - val_loss: 5.7295 - val_accuracy: 0.1014\n",
            "Epoch 71/100\n",
            "375/375 [==============================] - 4s 12ms/step - loss: 0.6162 - accuracy: 0.8032 - val_loss: 5.7836 - val_accuracy: 0.1006\n",
            "Epoch 72/100\n",
            "375/375 [==============================] - 6s 15ms/step - loss: 0.6040 - accuracy: 0.8090 - val_loss: 5.9199 - val_accuracy: 0.0997\n",
            "Epoch 73/100\n",
            "375/375 [==============================] - 5s 12ms/step - loss: 0.5919 - accuracy: 0.8112 - val_loss: 5.9487 - val_accuracy: 0.1022\n",
            "Epoch 74/100\n",
            "375/375 [==============================] - 4s 11ms/step - loss: 0.5809 - accuracy: 0.8145 - val_loss: 5.9930 - val_accuracy: 0.1019\n",
            "Epoch 75/100\n",
            "375/375 [==============================] - 5s 15ms/step - loss: 0.5715 - accuracy: 0.8188 - val_loss: 6.1121 - val_accuracy: 0.1013\n",
            "Epoch 76/100\n",
            "375/375 [==============================] - 5s 12ms/step - loss: 0.5605 - accuracy: 0.8196 - val_loss: 6.1812 - val_accuracy: 0.0986\n",
            "Epoch 77/100\n",
            "375/375 [==============================] - 5s 12ms/step - loss: 0.5500 - accuracy: 0.8256 - val_loss: 6.2441 - val_accuracy: 0.1015\n",
            "Epoch 78/100\n",
            "375/375 [==============================] - 6s 15ms/step - loss: 0.5388 - accuracy: 0.8293 - val_loss: 6.3235 - val_accuracy: 0.1037\n",
            "Epoch 79/100\n",
            "375/375 [==============================] - 5s 13ms/step - loss: 0.5283 - accuracy: 0.8335 - val_loss: 6.3838 - val_accuracy: 0.1023\n",
            "Epoch 80/100\n",
            "375/375 [==============================] - 5s 15ms/step - loss: 0.5194 - accuracy: 0.8354 - val_loss: 6.4899 - val_accuracy: 0.1013\n",
            "Epoch 81/100\n",
            "375/375 [==============================] - 5s 13ms/step - loss: 0.5087 - accuracy: 0.8404 - val_loss: 6.5470 - val_accuracy: 0.1025\n",
            "Epoch 82/100\n",
            "375/375 [==============================] - 5s 13ms/step - loss: 0.4997 - accuracy: 0.8433 - val_loss: 6.5791 - val_accuracy: 0.1010\n",
            "Epoch 83/100\n",
            "375/375 [==============================] - 7s 19ms/step - loss: 0.4914 - accuracy: 0.8446 - val_loss: 6.6873 - val_accuracy: 0.1016\n",
            "Epoch 84/100\n",
            "375/375 [==============================] - 5s 13ms/step - loss: 0.4811 - accuracy: 0.8472 - val_loss: 6.7685 - val_accuracy: 0.0969\n",
            "Epoch 85/100\n",
            "375/375 [==============================] - 5s 15ms/step - loss: 0.4702 - accuracy: 0.8523 - val_loss: 6.8519 - val_accuracy: 0.1032\n",
            "Epoch 86/100\n",
            "375/375 [==============================] - 5s 12ms/step - loss: 0.4607 - accuracy: 0.8549 - val_loss: 6.8725 - val_accuracy: 0.0985\n",
            "Epoch 87/100\n",
            "375/375 [==============================] - 4s 12ms/step - loss: 0.4543 - accuracy: 0.8569 - val_loss: 6.9633 - val_accuracy: 0.1000\n",
            "Epoch 88/100\n",
            "375/375 [==============================] - 6s 15ms/step - loss: 0.4455 - accuracy: 0.8614 - val_loss: 7.0334 - val_accuracy: 0.0982\n",
            "Epoch 89/100\n",
            "375/375 [==============================] - 5s 12ms/step - loss: 0.4393 - accuracy: 0.8626 - val_loss: 7.1249 - val_accuracy: 0.0967\n",
            "Epoch 90/100\n",
            "375/375 [==============================] - 5s 14ms/step - loss: 0.4320 - accuracy: 0.8634 - val_loss: 7.2131 - val_accuracy: 0.0998\n",
            "Epoch 91/100\n",
            "375/375 [==============================] - 5s 13ms/step - loss: 0.4223 - accuracy: 0.8679 - val_loss: 7.2702 - val_accuracy: 0.1002\n",
            "Epoch 92/100\n",
            "375/375 [==============================] - 5s 13ms/step - loss: 0.4128 - accuracy: 0.8730 - val_loss: 7.3341 - val_accuracy: 0.1029\n",
            "Epoch 93/100\n",
            "375/375 [==============================] - 5s 14ms/step - loss: 0.4081 - accuracy: 0.8724 - val_loss: 7.3937 - val_accuracy: 0.1011\n",
            "Epoch 94/100\n",
            "375/375 [==============================] - 4s 11ms/step - loss: 0.3999 - accuracy: 0.8765 - val_loss: 7.5042 - val_accuracy: 0.1013\n",
            "Epoch 95/100\n",
            "375/375 [==============================] - 5s 13ms/step - loss: 0.3948 - accuracy: 0.8775 - val_loss: 7.5792 - val_accuracy: 0.1009\n",
            "Epoch 96/100\n",
            "375/375 [==============================] - 7s 18ms/step - loss: 0.3861 - accuracy: 0.8815 - val_loss: 7.6992 - val_accuracy: 0.1021\n",
            "Epoch 97/100\n",
            "375/375 [==============================] - 4s 11ms/step - loss: 0.3785 - accuracy: 0.8821 - val_loss: 7.7327 - val_accuracy: 0.1017\n",
            "Epoch 98/100\n",
            "375/375 [==============================] - 5s 14ms/step - loss: 0.3719 - accuracy: 0.8856 - val_loss: 7.8184 - val_accuracy: 0.1007\n",
            "Epoch 99/100\n",
            "375/375 [==============================] - 5s 12ms/step - loss: 0.3646 - accuracy: 0.8878 - val_loss: 7.9174 - val_accuracy: 0.1007\n",
            "Epoch 100/100\n",
            "375/375 [==============================] - 6s 15ms/step - loss: 0.3579 - accuracy: 0.8904 - val_loss: 7.9390 - val_accuracy: 0.0997\n"
          ]
        },
        {
          "output_type": "execute_result",
          "data": {
            "text/plain": [
              "<keras.callbacks.History at 0x7f9ae3e81850>"
            ]
          },
          "metadata": {},
          "execution_count": 5
        }
      ],
      "source": [
        "(train_images, train_labels), _ = mnist.load_data()\n",
        "train_images = train_images.reshape((60000, 28 * 28))\n",
        "train_images = train_images.astype(\"float32\") / 255\n",
        "\n",
        "random_train_labels = train_labels[:]\n",
        "np.random.shuffle(random_train_labels)\n",
        "\n",
        "model = keras.Sequential([\n",
        "    layers.Dense(512, activation=\"relu\"),\n",
        "    layers.Dense(10, activation=\"softmax\")\n",
        "])\n",
        "model.compile(optimizer=\"rmsprop\",\n",
        "              loss=\"sparse_categorical_crossentropy\",\n",
        "              metrics=[\"accuracy\"])\n",
        "model.fit(train_images, random_train_labels,\n",
        "          epochs=100,\n",
        "          batch_size=128,\n",
        "          validation_split=0.2)"
      ]
    },
    {
      "cell_type": "markdown",
      "metadata": {
        "id": "kDvZ-dE2xqpc"
      },
      "source": [
        "#### The manifold hypothesis"
      ]
    },
    {
      "cell_type": "markdown",
      "metadata": {
        "id": "d8FagX4Dxqpc"
      },
      "source": [
        "#### Interpolation as a source of generalization"
      ]
    },
    {
      "cell_type": "markdown",
      "metadata": {
        "id": "ZOA9_lKmxqpc"
      },
      "source": [
        "#### Why deep learning works"
      ]
    },
    {
      "cell_type": "markdown",
      "metadata": {
        "id": "53ckr4r2xqpc"
      },
      "source": [
        "#### Training data is paramount"
      ]
    },
    {
      "cell_type": "markdown",
      "metadata": {
        "id": "zNKvQpooxqpd"
      },
      "source": [
        "## Evaluating machine-learning models"
      ]
    },
    {
      "cell_type": "markdown",
      "metadata": {
        "id": "PGG_zhuMxqpd"
      },
      "source": [
        "### Training, validation, and test sets"
      ]
    },
    {
      "cell_type": "markdown",
      "metadata": {
        "id": "mN-mHOm1xqpd"
      },
      "source": [
        "#### Simple hold-out validation"
      ]
    },
    {
      "cell_type": "markdown",
      "metadata": {
        "id": "1gcb9_vkxqpd"
      },
      "source": [
        "#### K-fold validation"
      ]
    },
    {
      "cell_type": "markdown",
      "metadata": {
        "id": "5ptNEIT1xqpd"
      },
      "source": [
        "#### Iterated K-fold validation with shuffling"
      ]
    },
    {
      "cell_type": "markdown",
      "metadata": {
        "id": "Ja7Gm4qUxqpe"
      },
      "source": [
        "### Beating a common-sense baseline"
      ]
    },
    {
      "cell_type": "markdown",
      "metadata": {
        "id": "PuUZ_nV1xqpe"
      },
      "source": [
        "### Things to keep in mind about model evaluation"
      ]
    },
    {
      "cell_type": "markdown",
      "metadata": {
        "id": "I_4AYcCIxqpe"
      },
      "source": [
        "## Improving model fit"
      ]
    },
    {
      "cell_type": "markdown",
      "metadata": {
        "id": "BktpunbExqpe"
      },
      "source": [
        "### Tuning key gradient descent parameters"
      ]
    },
    {
      "cell_type": "markdown",
      "metadata": {
        "id": "eULMwpQ_xqpe"
      },
      "source": [
        "**Training a MNIST model with an incorrectly high learning rate**"
      ]
    },
    {
      "cell_type": "code",
      "execution_count": 6,
      "metadata": {
        "id": "hgm8fNQ2xqpe",
        "outputId": "5b3b14c1-3f2d-4a04-c0f3-736d0b75963d",
        "colab": {
          "base_uri": "https://localhost:8080/"
        }
      },
      "outputs": [
        {
          "output_type": "stream",
          "name": "stdout",
          "text": [
            "Epoch 1/10\n",
            "375/375 [==============================] - 5s 12ms/step - loss: 577.5406 - accuracy: 0.3219 - val_loss: 2.1671 - val_accuracy: 0.1918\n",
            "Epoch 2/10\n",
            "375/375 [==============================] - 6s 16ms/step - loss: 2.5524 - accuracy: 0.2113 - val_loss: 2.1882 - val_accuracy: 0.2380\n",
            "Epoch 3/10\n",
            "375/375 [==============================] - 4s 11ms/step - loss: 2.4934 - accuracy: 0.1960 - val_loss: 2.2047 - val_accuracy: 0.2093\n",
            "Epoch 4/10\n",
            "375/375 [==============================] - 4s 11ms/step - loss: 2.4858 - accuracy: 0.2052 - val_loss: 2.0916 - val_accuracy: 0.2131\n",
            "Epoch 5/10\n",
            "375/375 [==============================] - 5s 13ms/step - loss: 2.6169 - accuracy: 0.1849 - val_loss: 2.4629 - val_accuracy: 0.2001\n",
            "Epoch 6/10\n",
            "375/375 [==============================] - 4s 11ms/step - loss: 2.5172 - accuracy: 0.1705 - val_loss: 2.2272 - val_accuracy: 0.1706\n",
            "Epoch 7/10\n",
            "375/375 [==============================] - 4s 11ms/step - loss: 2.4686 - accuracy: 0.1918 - val_loss: 2.4685 - val_accuracy: 0.1733\n",
            "Epoch 8/10\n",
            "375/375 [==============================] - 5s 14ms/step - loss: 2.4402 - accuracy: 0.1742 - val_loss: 2.2691 - val_accuracy: 0.1786\n",
            "Epoch 9/10\n",
            "375/375 [==============================] - 4s 11ms/step - loss: 2.2727 - accuracy: 0.2033 - val_loss: 2.4626 - val_accuracy: 0.2081\n",
            "Epoch 10/10\n",
            "375/375 [==============================] - 4s 11ms/step - loss: 2.4852 - accuracy: 0.2011 - val_loss: 2.2480 - val_accuracy: 0.1774\n"
          ]
        },
        {
          "output_type": "execute_result",
          "data": {
            "text/plain": [
              "<keras.callbacks.History at 0x7f9ae1db9fa0>"
            ]
          },
          "metadata": {},
          "execution_count": 6
        }
      ],
      "source": [
        "(train_images, train_labels), _ = mnist.load_data()\n",
        "train_images = train_images.reshape((60000, 28 * 28))\n",
        "train_images = train_images.astype(\"float32\") / 255\n",
        "\n",
        "model = keras.Sequential([\n",
        "    layers.Dense(512, activation=\"relu\"),\n",
        "    layers.Dense(10, activation=\"softmax\")\n",
        "])\n",
        "model.compile(optimizer=keras.optimizers.RMSprop(1.),\n",
        "              loss=\"sparse_categorical_crossentropy\",\n",
        "              metrics=[\"accuracy\"])\n",
        "model.fit(train_images, train_labels,\n",
        "          epochs=10,\n",
        "          batch_size=128,\n",
        "          validation_split=0.2)"
      ]
    },
    {
      "cell_type": "markdown",
      "metadata": {
        "id": "keSavV1gxqpf"
      },
      "source": [
        "**The same model with a more appropriate learning rate**"
      ]
    },
    {
      "cell_type": "code",
      "execution_count": null,
      "metadata": {
        "id": "hVs0WhnYxqpf"
      },
      "outputs": [],
      "source": [
        "model = keras.Sequential([\n",
        "    layers.Dense(512, activation=\"relu\"),\n",
        "    layers.Dense(10, activation=\"softmax\")\n",
        "])\n",
        "model.compile(optimizer=keras.optimizers.RMSprop(1e-2),\n",
        "              loss=\"sparse_categorical_crossentropy\",\n",
        "              metrics=[\"accuracy\"])\n",
        "model.fit(train_images, train_labels,\n",
        "          epochs=10,\n",
        "          batch_size=128,\n",
        "          validation_split=0.2)"
      ]
    },
    {
      "cell_type": "markdown",
      "metadata": {
        "id": "3ssYBNXPxqpf"
      },
      "source": [
        "### Leveraging better architecture priors"
      ]
    },
    {
      "cell_type": "markdown",
      "metadata": {
        "id": "8bn1f1iTxqpf"
      },
      "source": [
        "### Increasing model capacity"
      ]
    },
    {
      "cell_type": "markdown",
      "metadata": {
        "id": "sNT_x3D9xqpf"
      },
      "source": [
        "**A simple logistic regression on MNIST**"
      ]
    },
    {
      "cell_type": "code",
      "execution_count": null,
      "metadata": {
        "id": "gNzYWLyfxqpg"
      },
      "outputs": [],
      "source": [
        "model = keras.Sequential([layers.Dense(10, activation=\"softmax\")])\n",
        "model.compile(optimizer=\"rmsprop\",\n",
        "              loss=\"sparse_categorical_crossentropy\",\n",
        "              metrics=[\"accuracy\"])\n",
        "history_small_model = model.fit(\n",
        "    train_images, train_labels,\n",
        "    epochs=20,\n",
        "    batch_size=128,\n",
        "    validation_split=0.2)"
      ]
    },
    {
      "cell_type": "code",
      "execution_count": null,
      "metadata": {
        "id": "6eudDk7Lxqpg"
      },
      "outputs": [],
      "source": [
        "import matplotlib.pyplot as plt\n",
        "val_loss = history_small_model.history[\"val_loss\"]\n",
        "epochs = range(1, 21)\n",
        "plt.plot(epochs, val_loss, \"b--\",\n",
        "         label=\"Validation loss\")\n",
        "plt.title(\"Effect of insufficient model capacity on validation loss\")\n",
        "plt.xlabel(\"Epochs\")\n",
        "plt.ylabel(\"Loss\")\n",
        "plt.legend()"
      ]
    },
    {
      "cell_type": "code",
      "execution_count": null,
      "metadata": {
        "id": "ophJa55oxqpg"
      },
      "outputs": [],
      "source": [
        "model = keras.Sequential([\n",
        "    layers.Dense(96, activation=\"relu\"),\n",
        "    layers.Dense(96, activation=\"relu\"),\n",
        "    layers.Dense(10, activation=\"softmax\"),\n",
        "])\n",
        "model.compile(optimizer=\"rmsprop\",\n",
        "              loss=\"sparse_categorical_crossentropy\",\n",
        "              metrics=[\"accuracy\"])\n",
        "history_large_model = model.fit(\n",
        "    train_images, train_labels,\n",
        "    epochs=20,\n",
        "    batch_size=128,\n",
        "    validation_split=0.2)"
      ]
    },
    {
      "cell_type": "markdown",
      "metadata": {
        "id": "-TnMHr-Mxqpg"
      },
      "source": [
        "## Improving generalization"
      ]
    },
    {
      "cell_type": "markdown",
      "metadata": {
        "id": "nJd39-dDxqpg"
      },
      "source": [
        "### Dataset curation"
      ]
    },
    {
      "cell_type": "markdown",
      "metadata": {
        "id": "ZOF2T6wQxqpg"
      },
      "source": [
        "### Feature engineering"
      ]
    },
    {
      "cell_type": "markdown",
      "metadata": {
        "id": "xvy_B-_mxqpg"
      },
      "source": [
        "### Using early stopping"
      ]
    },
    {
      "cell_type": "markdown",
      "metadata": {
        "id": "8KCd72-Wxqpg"
      },
      "source": [
        "### Regularizing your model"
      ]
    },
    {
      "cell_type": "markdown",
      "metadata": {
        "id": "eKAvqMvlxqpg"
      },
      "source": [
        "#### Reducing the network's size"
      ]
    },
    {
      "cell_type": "markdown",
      "metadata": {
        "id": "dm61f_Q9xqph"
      },
      "source": [
        "**Original model**"
      ]
    },
    {
      "cell_type": "code",
      "execution_count": null,
      "metadata": {
        "id": "JUcKPpvtxqph"
      },
      "outputs": [],
      "source": [
        "from tensorflow.keras.datasets import imdb\n",
        "(train_data, train_labels), _ = imdb.load_data(num_words=10000)\n",
        "\n",
        "def vectorize_sequences(sequences, dimension=10000):\n",
        "    results = np.zeros((len(sequences), dimension))\n",
        "    for i, sequence in enumerate(sequences):\n",
        "        results[i, sequence] = 1.\n",
        "    return results\n",
        "train_data = vectorize_sequences(train_data)\n",
        "\n",
        "model = keras.Sequential([\n",
        "    layers.Dense(16, activation=\"relu\"),\n",
        "    layers.Dense(16, activation=\"relu\"),\n",
        "    layers.Dense(1, activation=\"sigmoid\")\n",
        "])\n",
        "model.compile(optimizer=\"rmsprop\",\n",
        "              loss=\"binary_crossentropy\",\n",
        "              metrics=[\"accuracy\"])\n",
        "history_original = model.fit(train_data, train_labels,\n",
        "                             epochs=20, batch_size=512, validation_split=0.4)"
      ]
    },
    {
      "cell_type": "markdown",
      "metadata": {
        "id": "gRmU3yJhxqpi"
      },
      "source": [
        "**Version of the model with lower capacity**"
      ]
    },
    {
      "cell_type": "code",
      "execution_count": null,
      "metadata": {
        "id": "vcY5Lqu5xqpi"
      },
      "outputs": [],
      "source": [
        "model = keras.Sequential([\n",
        "    layers.Dense(4, activation=\"relu\"),\n",
        "    layers.Dense(4, activation=\"relu\"),\n",
        "    layers.Dense(1, activation=\"sigmoid\")\n",
        "])\n",
        "model.compile(optimizer=\"rmsprop\",\n",
        "              loss=\"binary_crossentropy\",\n",
        "              metrics=[\"accuracy\"])\n",
        "history_smaller_model = model.fit(\n",
        "    train_data, train_labels,\n",
        "    epochs=20, batch_size=512, validation_split=0.4)"
      ]
    },
    {
      "cell_type": "markdown",
      "metadata": {
        "id": "BInae2ymxqpi"
      },
      "source": [
        "**Version of the model with higher capacity**"
      ]
    },
    {
      "cell_type": "code",
      "execution_count": null,
      "metadata": {
        "id": "zamvxpfUxqpi"
      },
      "outputs": [],
      "source": [
        "model = keras.Sequential([\n",
        "    layers.Dense(512, activation=\"relu\"),\n",
        "    layers.Dense(512, activation=\"relu\"),\n",
        "    layers.Dense(1, activation=\"sigmoid\")\n",
        "])\n",
        "model.compile(optimizer=\"rmsprop\",\n",
        "              loss=\"binary_crossentropy\",\n",
        "              metrics=[\"accuracy\"])\n",
        "history_larger_model = model.fit(\n",
        "    train_data, train_labels,\n",
        "    epochs=20, batch_size=512, validation_split=0.4)"
      ]
    },
    {
      "cell_type": "markdown",
      "metadata": {
        "id": "9kSsezwqxqpi"
      },
      "source": [
        "#### Adding weight regularization"
      ]
    },
    {
      "cell_type": "markdown",
      "metadata": {
        "id": "6nqOaefTxqpi"
      },
      "source": [
        "**Adding L2 weight regularization to the model**"
      ]
    },
    {
      "cell_type": "code",
      "execution_count": null,
      "metadata": {
        "id": "E5OOR8vaxqpi"
      },
      "outputs": [],
      "source": [
        "from tensorflow.keras import regularizers\n",
        "model = keras.Sequential([\n",
        "    layers.Dense(16,\n",
        "                 kernel_regularizer=regularizers.l2(0.002),\n",
        "                 activation=\"relu\"),\n",
        "    layers.Dense(16,\n",
        "                 kernel_regularizer=regularizers.l2(0.002),\n",
        "                 activation=\"relu\"),\n",
        "    layers.Dense(1, activation=\"sigmoid\")\n",
        "])\n",
        "model.compile(optimizer=\"rmsprop\",\n",
        "              loss=\"binary_crossentropy\",\n",
        "              metrics=[\"accuracy\"])\n",
        "history_l2_reg = model.fit(\n",
        "    train_data, train_labels,\n",
        "    epochs=20, batch_size=512, validation_split=0.4)"
      ]
    },
    {
      "cell_type": "markdown",
      "metadata": {
        "id": "N1tGXNXVxqpi"
      },
      "source": [
        "**Different weight regularizers available in Keras**"
      ]
    },
    {
      "cell_type": "code",
      "execution_count": null,
      "metadata": {
        "id": "u5YcUqiOxqpi"
      },
      "outputs": [],
      "source": [
        "from tensorflow.keras import regularizers\n",
        "regularizers.l1(0.001)\n",
        "regularizers.l1_l2(l1=0.001, l2=0.001)"
      ]
    },
    {
      "cell_type": "markdown",
      "metadata": {
        "id": "aVeFwcVmxqpj"
      },
      "source": [
        "#### Adding dropout"
      ]
    },
    {
      "cell_type": "markdown",
      "metadata": {
        "id": "AAtzIT_Zxqpj"
      },
      "source": [
        "**Adding dropout to the IMDB model**"
      ]
    },
    {
      "cell_type": "code",
      "execution_count": null,
      "metadata": {
        "id": "qyj5W9yDxqpj"
      },
      "outputs": [],
      "source": [
        "model = keras.Sequential([\n",
        "    layers.Dense(16, activation=\"relu\"),\n",
        "    layers.Dropout(0.5),\n",
        "    layers.Dense(16, activation=\"relu\"),\n",
        "    layers.Dropout(0.5),\n",
        "    layers.Dense(1, activation=\"sigmoid\")\n",
        "])\n",
        "model.compile(optimizer=\"rmsprop\",\n",
        "              loss=\"binary_crossentropy\",\n",
        "              metrics=[\"accuracy\"])\n",
        "history_dropout = model.fit(\n",
        "    train_data, train_labels,\n",
        "    epochs=20, batch_size=512, validation_split=0.4)"
      ]
    },
    {
      "cell_type": "markdown",
      "metadata": {
        "id": "Z0Qs-HRZxqpj"
      },
      "source": [
        "## Summary"
      ]
    }
  ],
  "metadata": {
    "colab": {
      "name": "chapter05_fundamentals-of-ml.i",
      "provenance": [],
      "toc_visible": true
    },
    "kernelspec": {
      "display_name": "Python 3",
      "language": "python",
      "name": "python3"
    },
    "language_info": {
      "codemirror_mode": {
        "name": "ipython",
        "version": 3
      },
      "file_extension": ".py",
      "mimetype": "text/x-python",
      "name": "python",
      "nbconvert_exporter": "python",
      "pygments_lexer": "ipython3",
      "version": "3.7.0"
    }
  },
  "nbformat": 4,
  "nbformat_minor": 0
}